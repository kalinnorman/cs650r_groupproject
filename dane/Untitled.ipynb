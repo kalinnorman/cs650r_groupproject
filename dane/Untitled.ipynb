{
 "cells": [
  {
   "cell_type": "markdown",
   "id": "04e2d783",
   "metadata": {},
   "source": [
    "## Reconstruction Alignment and Triangulation Sandbox\n",
    "\n",
    "Author: Dane\n",
    "\n",
    "### Purpose\n",
    "Create simple samples that can be used to understand the algorithms and challenges inherent to the structure from motion problem using toy examples, exposing functionality\n",
    "\n"
   ]
  },
  {
   "cell_type": "code",
   "execution_count": null,
   "id": "4d526da8",
   "metadata": {},
   "outputs": [],
   "source": []
  }
 ],
 "metadata": {
  "kernelspec": {
   "display_name": "Python 3 (ipykernel)",
   "language": "python",
   "name": "python3"
  },
  "language_info": {
   "codemirror_mode": {
    "name": "ipython",
    "version": 3
   },
   "file_extension": ".py",
   "mimetype": "text/x-python",
   "name": "python",
   "nbconvert_exporter": "python",
   "pygments_lexer": "ipython3",
   "version": "3.9.13"
  }
 },
 "nbformat": 4,
 "nbformat_minor": 5
}
